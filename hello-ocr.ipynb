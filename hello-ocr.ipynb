{
 "cells": [
  {
   "cell_type": "markdown",
   "id": "bacf42d0",
   "metadata": {},
   "source": [
    "# Hello World in OCR\n",
    "\n",
    "Using [tesseract](https://github.com/tesseract-ocr/tesseract) via [pytesseract](https://pypi.org/project/pytesseract/) to OCR portuguese language images, following [some](https://blog.codeexpertslearning.com.br/lendo-imagens-uma-abordagem-%C3%A0-ocr-com-google-tesseract-e-python-ee8e8009f2ab) [nice](https://pythonforundergradengineers.com/how-to-install-pytesseract.html) [tutorials](https://nanonets.com/blog/ocr-with-tesseract/) -- with a few tweaks."
   ]
  },
  {
   "cell_type": "markdown",
   "id": "df9be0f4",
   "metadata": {},
   "source": [
    "The code block below is to read and show the image below text, written in Portuguese.\n",
    "\n",
    "![Colorful background, text in Portuguese that says: The most simple thoughts were once complex ideas for the world](https://miro.medium.com/max/454/1*3dR2gZWXhKz01_qQgnRxDQ.jpeg)"
   ]
  },
  {
   "cell_type": "code",
   "execution_count": 2,
   "id": "6525bb1e",
   "metadata": {},
   "outputs": [
    {
     "name": "stdout",
     "output_type": "stream",
     "text": [
      "Os pensamentos mais\n",
      "simples já foram ideias\n",
      "complexas para o mundo\n",
      "\f",
      "\n"
     ]
    }
   ],
   "source": [
    "import pytesseract as ocr\n",
    "from PIL import Image\n",
    "\n",
    "ocr.pytesseract.tesseract_cmd = r'C:\\Users\\miria\\anaconda3\\envs\\tesseract\\Library\\bin\\tesseract.exe'\n",
    "tessdata_dir_config = r'--tessdata-dir \"C:\\Users\\miria\\anaconda3\\envs\\tesseract\\Library\\bin\\tessdata\"'\n",
    "\n",
    "phrase = ocr.image_to_string(Image.open('oi.jpeg'), lang='por', config=tessdata_dir_config)\n",
    "print(phrase)"
   ]
  },
  {
   "attachments": {},
   "cell_type": "markdown",
   "id": "e53e9c95",
   "metadata": {},
   "source": [
    "The next block of text is closer to what I really want to read using OCR: an example of [transportation invoice](https://en.wikipedia.org/wiki/Transport_document) of COVID-19 vaccines sent by the Brazilian Federal government to its States.\n",
    "\n",
    "![Transportation invoice example](https://raw.githubusercontent.com/mirianbr/vaccine-batches/main/assets/OK-ac_fase1-quality-dpi-depth-bg.png)"
   ]
  },
  {
   "cell_type": "code",
   "execution_count": 5,
   "id": "d5d1fe79",
   "metadata": {
    "scrolled": true
   },
   "outputs": [
    {
     "name": "stdout",
     "output_type": "stream",
     "text": [
      "MINISTERIO DA SAUDE - MS Domingo, 17de Janeiro de 2021\n",
      "\n",
      " \n",
      "\n",
      "DEPARTAMENTO DE LOGÍSTICA - DLOG/SE == EMERGENCIAL Página 1 de 1\n",
      "SERVIÇO DE ARMAZENAMENTO E DISTRIBUIÇÃO DE MEDICAMENTOS - CAIES/CGAD A éreo Impressão denº 1\n",
      "Sistema Integrado de Administração de Material é SISMAT PERECIVEL DE 2 A 8\n",
      "\n",
      "CNPJ 00.394.544.0008-51\n",
      "Nº do Pedido: 339082\n",
      "\n",
      "NOTA DE FORNECIMENTO DE MEDICAMENTO\n",
      "\n",
      "Nº do Pedido: 339082 Valor Total do Pedido: 2.372.232,00\n",
      "Unidade / Entidade de Destino: SECRETARIA ESTADUAL DE SAÚDE DO ACRE - UF AC - CNPJ: 04034526002197 - CEP: 69908970\n",
      "| Descrição da Localidade: Travessa do Hemoacre S/N bairro Vila Ivonete\n",
      "Cidade: RIO BRANCO - AC\n",
      "\n",
      " \n",
      "\n",
      "Telefone da Unid. / Entidade: 32282720 Data do Pedido: 17/01/2021 — Status: DISPONÍVEL P/ EXPEDIÇÃO\n",
      "Dt. Envio da Autorização: - Dt. Autorização: 17/01/2021\n",
      "Código Descrição Qt. Autorizado Qt. Entregue VI. Unitário VI. Total\n",
      "0863661 — VACINACONTRA SARS-COV? - MONODOSE 40.760 40.760 58,2000000000 2.372.232,00\n",
      "Fornecedor: FUNDAÇÃO BUTANTAN End.: CÂMARA FRIA - SP Qt. Recolher: 30.000 Dt. Validade: 27/10/2023 Lote: 202010040\n",
      "Fabricante: FUNDAÇÃO BUTANTAN\n",
      "Fornecedor: FUNDAÇÃO BUTANTAN End.: CÂMARA FRIA - SP Qt. Recolher: 10.760 Dt. Validade: 1610/2023 Lote: 202010028\n",
      "\n",
      "Fabricante: FUNDAÇÃO BUTANTAN\n",
      "Programa de Saude.: Programa Nacional de Imunização\n",
      "Obs.: Vacina Covid19\n",
      "\n",
      " \n",
      "\n",
      "Obs.: Se durante o recebimento for identificada alguma divergência, imediatamente entrar em contato conosco através do e-mail: sadm.transporte(Dsaude.gov.br\n",
      "\n",
      " \n",
      "\n",
      " \n",
      "\n",
      "DATA FUNCIONÁRIO DA TRANSPORTADORA\n",
      "18/01/2021 01:28\n",
      "\n",
      " \n",
      "\f",
      "\n"
     ]
    }
   ],
   "source": [
    "doc = ocr.image_to_string(Image.open('OK-ac_fase1-quality-dpi-depth-bg.png'), lang='por', config=tessdata_dir_config)\n",
    "print(doc)"
   ]
  },
  {
   "cell_type": "markdown",
   "id": "787dc89c",
   "metadata": {},
   "source": []
  }
 ],
 "metadata": {
  "kernelspec": {
   "display_name": "Python 3",
   "language": "python",
   "name": "python3"
  },
  "language_info": {
   "codemirror_mode": {
    "name": "ipython",
    "version": 3
   },
   "file_extension": ".py",
   "mimetype": "text/x-python",
   "name": "python",
   "nbconvert_exporter": "python",
   "pygments_lexer": "ipython3",
   "version": "3.8.10"
  }
 },
 "nbformat": 4,
 "nbformat_minor": 5
}
